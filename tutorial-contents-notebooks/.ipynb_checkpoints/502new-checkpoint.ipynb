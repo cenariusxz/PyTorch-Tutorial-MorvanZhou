{
 "cells": [
  {
   "cell_type": "code",
   "execution_count": 1,
   "metadata": {},
   "outputs": [],
   "source": [
    "import torch\n",
    "import torch.nn as nn\n",
    "import torch.optim as optim\n",
    "import torchvision\n",
    "import torchvision.transforms as transforms\n",
    "import numpy as np\n",
    "import matplotlib.pyplot as plt\n",
    "%matplotlib inline\n",
    "\n",
    "torch.manual_seed(1)\n",
    "EPOCH = 10\n",
    "LR = 0.01\n",
    "BATCH_SIZE = 64\n",
    "DEVICE = 'cuda:0' if torch.cuda.is_available() else 'cpu'"
   ]
  },
  {
   "cell_type": "code",
   "execution_count": 2,
   "metadata": {},
   "outputs": [],
   "source": [
    "transform = transforms.ToTensor()\n",
    "train_set = torchvision.datasets.MNIST(root='./mnist/', train=True, transform=transform, download=True)\n",
    "train_loader = torch.utils.data.DataLoader(train_set, shuffle=True, batch_size=BATCH_SIZE, num_workers=32)\n",
    "test_set = torchvision.datasets.MNIST(root='./mnist/', train=False, transform=transform, download=True)\n",
    "test_loader = torch.utils.data.DataLoader(test_set, shuffle=True, batch_size=BATCH_SIZE, num_workers=32)"
   ]
  },
  {
   "cell_type": "code",
   "execution_count": 3,
   "metadata": {},
   "outputs": [],
   "source": [
    "class CNN(nn.Module):\n",
    "    def __init__(self):\n",
    "        super(CNN, self).__init__()\n",
    "        self.conv1 = nn.Sequential(\n",
    "            nn.Conv2d(in_channels=1, out_channels=16, kernel_size=5, stride=1, padding=2,),                      \n",
    "            nn.ReLU(), \n",
    "            nn.MaxPool2d(kernel_size=2),)\n",
    "        self.conv2 = nn.Sequential(\n",
    "            nn.Conv2d(16, 32, 5, 1, 2), \n",
    "            nn.ReLU(), \n",
    "            nn.MaxPool2d(2),)\n",
    "        self.fc = nn.Linear(32 * 7 * 7, 10)\n",
    "\n",
    "    def forward(self, x):\n",
    "        x = self.conv1(x)\n",
    "        x = self.conv2(x)\n",
    "        x = x.view(x.size(0), -1)\n",
    "        x = self.fc(x)\n",
    "        return x\n",
    "\n",
    "    \n",
    "net = CNN()"
   ]
  },
  {
   "cell_type": "code",
   "execution_count": 4,
   "metadata": {},
   "outputs": [],
   "source": [
    "def test_process(net, device, epoch):\n",
    "    net.to(device)\n",
    "    correct = 0.0\n",
    "    total = 0.0\n",
    "    with torch.no_grad():\n",
    "        for inputs, labels in test_loader:\n",
    "            total += labels.size(0)\n",
    "            outputs = net(inputs.to(device)).cpu()\n",
    "            _, preds = torch.max(outputs, dim=1)\n",
    "            correct += (preds == labels).sum().item()\n",
    "    accuracy = correct / total\n",
    "    print('Epoch: ', epoch+1, '| test accuracy: %.2f %%' % (accuracy * 100))\n",
    "\n",
    "def train_process(net, device):\n",
    "    losses = []\n",
    "    net.to(device)\n",
    "    criterion = nn.CrossEntropyLoss()\n",
    "    optimizer = optim.Adam(net.parameters(), lr=LR)\n",
    "    for epoch in range(EPOCH):\n",
    "        running_loss = 0.0\n",
    "        for t, (inputs, labels) in enumerate(train_loader):\n",
    "            net.zero_grad()\n",
    "            outputs = net(inputs.to(device))\n",
    "            loss = criterion(outputs, labels.to(device))\n",
    "            loss.backward()\n",
    "            optimizer.step()\n",
    "            \n",
    "            losses.append(loss.cpu().item())\n",
    "            running_loss += loss.cpu().item()\n",
    "            if t % 200 == 199:\n",
    "                print('Epoch: ', epoch+1, '| step: ', t+1, '| avg train loss: %.4f' % (running_loss / 200))\n",
    "                running_loss = 0.0\n",
    "        test_process(net, device, epoch)\n",
    "        \n",
    "    return losses"
   ]
  },
  {
   "cell_type": "code",
   "execution_count": 5,
   "metadata": {},
   "outputs": [
    {
     "name": "stdout",
     "output_type": "stream",
     "text": [
      "Epoch:  1 | step:  200 | avg train loss: 0.2909\n",
      "Epoch:  1 | step:  400 | avg train loss: 0.1015\n",
      "Epoch:  1 | step:  600 | avg train loss: 0.0828\n",
      "Epoch:  1 | step:  800 | avg train loss: 0.0741\n",
      "Epoch:  1 | test accuracy: 97.79 %\n",
      "Epoch:  2 | step:  200 | avg train loss: 0.0584\n",
      "Epoch:  2 | step:  400 | avg train loss: 0.0702\n",
      "Epoch:  2 | step:  600 | avg train loss: 0.0575\n",
      "Epoch:  2 | step:  800 | avg train loss: 0.0651\n",
      "Epoch:  2 | test accuracy: 96.95 %\n",
      "Epoch:  3 | step:  200 | avg train loss: 0.0499\n",
      "Epoch:  3 | step:  400 | avg train loss: 0.0603\n",
      "Epoch:  3 | step:  600 | avg train loss: 0.0558\n",
      "Epoch:  3 | step:  800 | avg train loss: 0.0619\n",
      "Epoch:  3 | test accuracy: 98.54 %\n",
      "Epoch:  4 | step:  200 | avg train loss: 0.0511\n",
      "Epoch:  4 | step:  400 | avg train loss: 0.0506\n",
      "Epoch:  4 | step:  600 | avg train loss: 0.0530\n",
      "Epoch:  4 | step:  800 | avg train loss: 0.0554\n",
      "Epoch:  4 | test accuracy: 98.27 %\n",
      "Epoch:  5 | step:  200 | avg train loss: 0.0464\n",
      "Epoch:  5 | step:  400 | avg train loss: 0.0510\n",
      "Epoch:  5 | step:  600 | avg train loss: 0.0514\n",
      "Epoch:  5 | step:  800 | avg train loss: 0.0600\n",
      "Epoch:  5 | test accuracy: 98.58 %\n",
      "Epoch:  6 | step:  200 | avg train loss: 0.0427\n",
      "Epoch:  6 | step:  400 | avg train loss: 0.0415\n",
      "Epoch:  6 | step:  600 | avg train loss: 0.0600\n",
      "Epoch:  6 | step:  800 | avg train loss: 0.0525\n",
      "Epoch:  6 | test accuracy: 98.34 %\n",
      "Epoch:  7 | step:  200 | avg train loss: 0.0489\n",
      "Epoch:  7 | step:  400 | avg train loss: 0.0467\n",
      "Epoch:  7 | step:  600 | avg train loss: 0.0546\n",
      "Epoch:  7 | step:  800 | avg train loss: 0.0609\n",
      "Epoch:  7 | test accuracy: 97.88 %\n",
      "Epoch:  8 | step:  200 | avg train loss: 0.0349\n",
      "Epoch:  8 | step:  400 | avg train loss: 0.0473\n",
      "Epoch:  8 | step:  600 | avg train loss: 0.0517\n",
      "Epoch:  8 | step:  800 | avg train loss: 0.0462\n",
      "Epoch:  8 | test accuracy: 97.91 %\n",
      "Epoch:  9 | step:  200 | avg train loss: 0.0378\n",
      "Epoch:  9 | step:  400 | avg train loss: 0.0448\n",
      "Epoch:  9 | step:  600 | avg train loss: 0.0505\n",
      "Epoch:  9 | step:  800 | avg train loss: 0.0440\n",
      "Epoch:  9 | test accuracy: 98.29 %\n",
      "Epoch:  10 | step:  200 | avg train loss: 0.0477\n",
      "Epoch:  10 | step:  400 | avg train loss: 0.0397\n",
      "Epoch:  10 | step:  600 | avg train loss: 0.0523\n",
      "Epoch:  10 | step:  800 | avg train loss: 0.0710\n",
      "Epoch:  10 | test accuracy: 98.19 %\n"
     ]
    }
   ],
   "source": [
    "losses = train_process(net, DEVICE)"
   ]
  },
  {
   "cell_type": "code",
   "execution_count": 6,
   "metadata": {},
   "outputs": [
    {
     "data": {
      "image/png": "[encoded data removed]",
      "text/plain": [
       "<Figure size 432x288 with 1 Axes>"
      ]
     },
     "metadata": {
      "needs_background": "light"
     },
     "output_type": "display_data"
    }
   ],
   "source": [
    "plt.plot(losses, label='loss')\n",
    "plt.legend(loc='best')\n",
    "plt.xlabel('Steps')\n",
    "plt.ylabel('Loss')\n",
    "plt.ylim((0, 1))\n",
    "plt.show()"
   ]
  },
  {
   "cell_type": "code",
   "execution_count": null,
   "metadata": {},
   "outputs": [],
   "source": []
  }
 ],
 "metadata": {
  "kernelspec": {
   "display_name": "Python 3",
   "language": "python",
   "name": "python3"
  },
  "language_info": {
   "codemirror_mode": {
    "name": "ipython",
    "version": 3
   },
   "file_extension": ".py",
   "mimetype": "text/x-python",
   "name": "python",
   "nbconvert_exporter": "python",
   "pygments_lexer": "ipython3",
   "version": "3.7.6"
  }
 },
 "nbformat": 4,
 "nbformat_minor": 4
}
