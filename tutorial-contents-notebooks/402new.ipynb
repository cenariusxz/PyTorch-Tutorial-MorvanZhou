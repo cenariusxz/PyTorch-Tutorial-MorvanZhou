{
 "cells": [
  {
   "cell_type": "code",
   "execution_count": 1,
   "metadata": {},
   "outputs": [],
   "source": [
    "import torch\n",
    "import torch.nn as nn\n",
    "import torch.optim as optim\n",
    "import torchvision\n",
    "import torchvision.transforms as transforms\n",
    "\n",
    "torch.manual_seed(1)\n",
    "\n",
    "EPOCH = 10\n",
    "BATCH_SIZE = 64\n",
    "LR = 0.001\n",
    "device = 'cuda:0' if torch.cuda.is_available() else 'cpu'"
   ]
  },
  {
   "cell_type": "code",
   "execution_count": 2,
   "metadata": {},
   "outputs": [
    {
     "name": "stdout",
     "output_type": "stream",
     "text": [
      "torch.Size([60000, 28, 28])\n",
      "torch.Size([60000])\n",
      "torch.Size([10000, 28, 28])\n",
      "torch.Size([10000])\n"
     ]
    }
   ],
   "source": [
    "transform = transforms.ToTensor()\n",
    "train_set = torchvision.datasets.MNIST(root='./mnist/', transform=transform, train=True, download=True)\n",
    "train_loader = torch.utils.data.DataLoader(train_set, batch_size=BATCH_SIZE, shuffle=True, num_workers=32)\n",
    "test_set = torchvision.datasets.MNIST(root='./mnist/', transform=transform, train=False, download=True)\n",
    "test_loader = torch.utils.data.DataLoader(test_set, batch_size=BATCH_SIZE, shuffle=True, num_workers=32)\n",
    "print(train_set.data.size())\n",
    "print(train_set.targets.size())\n",
    "print(test_set.data.size())\n",
    "print(test_set.targets.size())"
   ]
  },
  {
   "cell_type": "code",
   "execution_count": 3,
   "metadata": {},
   "outputs": [
    {
     "name": "stdout",
     "output_type": "stream",
     "text": [
      "Net(\n",
      "  (rnn): LSTM(28, 64, batch_first=True)\n",
      "  (fc): Linear(in_features=64, out_features=10, bias=True)\n",
      ")\n"
     ]
    }
   ],
   "source": [
    "class Net(nn.Module):\n",
    "    def __init__(self):\n",
    "        super(Net, self).__init__()\n",
    "        self.rnn = nn.LSTM(\n",
    "            input_size=28,     # image width\n",
    "            hidden_size=64,\n",
    "            num_layers=1,\n",
    "            batch_first=True   # True : (batch, time_step, input_size)   False : (time_step, batch, input_size)\n",
    "        )\n",
    "        self.fc = nn.Linear(64, 10)\n",
    "    \n",
    "    def forward(self, x):\n",
    "        r_out, (h_n, h_c) = self.rnn(x, None)\n",
    "        # x  (batch, time_step, input_size)    None 初始无输入，后续为记忆内容\n",
    "        # (h_n, h_c) -> 记忆内容， r_out -> 当前时间输出\n",
    "        # r_out  (batch, time_step, hidden_size) ，即对所有batch的每个time_step保存对于输入的hidden_size个隐层输出\n",
    "        # h_n 短期记忆，直接递给下一次输入   h_c 长期记忆，进行储存\n",
    "        # h_n shape (n_layers, batch, hidden_size)\n",
    "        # h_c shape (n_layers, batch, hidden_size)\n",
    "        out = self.fc(r_out[:, -1, :])  # 仅需要最后一个time_step的输出用于全连接的输入\n",
    "        return out\n",
    "    \n",
    "rnn = Net()\n",
    "print(rnn)"
   ]
  },
  {
   "cell_type": "code",
   "execution_count": 4,
   "metadata": {},
   "outputs": [],
   "source": [
    "def test(net, device):\n",
    "    total = 0\n",
    "    correct = 0\n",
    "    with torch.no_grad():\n",
    "        net.to(device)\n",
    "        for (inputs, labels) in test_loader:\n",
    "            inputs = inputs.to(device)\n",
    "            inputs = inputs.view(-1, 28, 28)\n",
    "            outputs = net(inputs).cpu()\n",
    "            _, preds = torch.max(outputs, 1)\n",
    "            total += labels.size(0)\n",
    "            correct += (preds == labels).sum().item()\n",
    "    print('test accuracy : %.2f %%' % (correct * 100 / total))\n",
    "    \n",
    "def train(net, device, EPOCH, LR):\n",
    "    net.to(device)\n",
    "    criterion = nn.CrossEntropyLoss()\n",
    "    optimizer = optim.Adam(net.parameters(), lr=LR)\n",
    "    \n",
    "    for epoch in range(EPOCH):\n",
    "        running_loss = 0.0\n",
    "        for t, (inputs, labels) in enumerate(train_loader):\n",
    "            inputs, labels = inputs.to(device), labels.to(device)\n",
    "            inputs = inputs.view(-1, 28, 28)\n",
    "            net.zero_grad()\n",
    "            outputs = net(inputs)\n",
    "            loss = criterion(outputs, labels)\n",
    "            loss.backward()\n",
    "            optimizer.step()\n",
    "            \n",
    "            running_loss += loss.item()\n",
    "            if t % 200 == 199:\n",
    "                print('epoch %d step %d train loss : %.3f' % (epoch+1, t+1, running_loss / 200))\n",
    "                running_loss = 0.0\n",
    "                test(net, device)"
   ]
  },
  {
   "cell_type": "code",
   "execution_count": 5,
   "metadata": {},
   "outputs": [
    {
     "name": "stdout",
     "output_type": "stream",
     "text": [
      "epoch 1 step 200 train loss : 1.487\n",
      "test accuracy : 77.36 %\n",
      "epoch 1 step 400 train loss : 0.536\n",
      "test accuracy : 88.75 %\n",
      "epoch 1 step 600 train loss : 0.355\n",
      "test accuracy : 91.29 %\n",
      "epoch 1 step 800 train loss : 0.290\n",
      "test accuracy : 92.59 %\n",
      "epoch 2 step 200 train loss : 0.208\n",
      "test accuracy : 94.19 %\n",
      "epoch 2 step 400 train loss : 0.197\n",
      "test accuracy : 95.01 %\n",
      "epoch 2 step 600 train loss : 0.181\n",
      "test accuracy : 94.50 %\n",
      "epoch 2 step 800 train loss : 0.160\n",
      "test accuracy : 95.75 %\n",
      "epoch 3 step 200 train loss : 0.137\n",
      "test accuracy : 96.28 %\n",
      "epoch 3 step 400 train loss : 0.140\n",
      "test accuracy : 96.35 %\n",
      "epoch 3 step 600 train loss : 0.124\n",
      "test accuracy : 96.08 %\n",
      "epoch 3 step 800 train loss : 0.119\n",
      "test accuracy : 96.33 %\n",
      "epoch 4 step 200 train loss : 0.102\n",
      "test accuracy : 96.93 %\n",
      "epoch 4 step 400 train loss : 0.111\n",
      "test accuracy : 96.91 %\n",
      "epoch 4 step 600 train loss : 0.095\n",
      "test accuracy : 97.10 %\n",
      "epoch 4 step 800 train loss : 0.102\n",
      "test accuracy : 97.19 %\n",
      "epoch 5 step 200 train loss : 0.086\n",
      "test accuracy : 97.03 %\n",
      "epoch 5 step 400 train loss : 0.090\n",
      "test accuracy : 97.21 %\n",
      "epoch 5 step 600 train loss : 0.082\n",
      "test accuracy : 97.34 %\n",
      "epoch 5 step 800 train loss : 0.087\n",
      "test accuracy : 97.20 %\n",
      "epoch 6 step 200 train loss : 0.077\n",
      "test accuracy : 97.73 %\n",
      "epoch 6 step 400 train loss : 0.081\n",
      "test accuracy : 97.39 %\n",
      "epoch 6 step 600 train loss : 0.077\n",
      "test accuracy : 97.50 %\n",
      "epoch 6 step 800 train loss : 0.068\n",
      "test accuracy : 97.47 %\n",
      "epoch 7 step 200 train loss : 0.059\n",
      "test accuracy : 97.55 %\n",
      "epoch 7 step 400 train loss : 0.066\n",
      "test accuracy : 97.40 %\n",
      "epoch 7 step 600 train loss : 0.068\n",
      "test accuracy : 97.99 %\n",
      "epoch 7 step 800 train loss : 0.067\n",
      "test accuracy : 97.66 %\n",
      "epoch 8 step 200 train loss : 0.056\n",
      "test accuracy : 97.19 %\n",
      "epoch 8 step 400 train loss : 0.063\n",
      "test accuracy : 98.01 %\n",
      "epoch 8 step 600 train loss : 0.059\n",
      "test accuracy : 98.04 %\n",
      "epoch 8 step 800 train loss : 0.056\n",
      "test accuracy : 98.10 %\n",
      "epoch 9 step 200 train loss : 0.054\n",
      "test accuracy : 98.17 %\n",
      "epoch 9 step 400 train loss : 0.054\n",
      "test accuracy : 97.81 %\n",
      "epoch 9 step 600 train loss : 0.051\n",
      "test accuracy : 97.83 %\n",
      "epoch 9 step 800 train loss : 0.053\n",
      "test accuracy : 97.89 %\n",
      "epoch 10 step 200 train loss : 0.045\n",
      "test accuracy : 97.40 %\n",
      "epoch 10 step 400 train loss : 0.046\n",
      "test accuracy : 98.25 %\n",
      "epoch 10 step 600 train loss : 0.051\n",
      "test accuracy : 97.98 %\n",
      "epoch 10 step 800 train loss : 0.046\n",
      "test accuracy : 98.24 %\n"
     ]
    }
   ],
   "source": [
    "train(rnn, device, EPOCH, LR)"
   ]
  },
  {
   "cell_type": "code",
   "execution_count": null,
   "metadata": {},
   "outputs": [],
   "source": []
  }
 ],
 "metadata": {
  "kernelspec": {
   "display_name": "Python 3",
   "language": "python",
   "name": "python3"
  },
  "language_info": {
   "codemirror_mode": {
    "name": "ipython",
    "version": 3
   },
   "file_extension": ".py",
   "mimetype": "text/x-python",
   "name": "python",
   "nbconvert_exporter": "python",
   "pygments_lexer": "ipython3",
   "version": "3.7.6"
  }
 },
 "nbformat": 4,
 "nbformat_minor": 4
}
